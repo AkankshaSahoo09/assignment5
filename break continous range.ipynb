{
 "cells": [
  {
   "cell_type": "code",
   "execution_count": 2,
   "id": "fce69df0-24be-4bc6-89d6-7a9801f46a3f",
   "metadata": {},
   "outputs": [
    {
     "name": "stdout",
     "output_type": "stream",
     "text": [
      "1\n",
      "2\n",
      "3\n",
      "4\n"
     ]
    }
   ],
   "source": [
    "#Write a program to print numbers from  to 0, but stop if the number is 5.\n",
    "n = 10\n",
    "i = 1\n",
    "while i <n:\n",
    "    print(i)\n",
    "    i = i +1\n",
    "    if i ==5:\n",
    "        break\n",
    "else:\n",
    "    print(\"this will be executed when the while loop is run succesfully\")"
   ]
  },
  {
   "cell_type": "code",
   "execution_count": 4,
   "id": "a4d44754-09c1-4278-828e-17d9493ba8b8",
   "metadata": {},
   "outputs": [
    {
     "data": {
      "text/plain": [
       "[0, 1, 2, 3, 4, 5, 6, 7, 8, 9]"
      ]
     },
     "execution_count": 4,
     "metadata": {},
     "output_type": "execute_result"
    }
   ],
   "source": [
    "#Write a program to iterate through a list and stop when encountering a specific element.\n",
    "list(range(0,10))"
   ]
  },
  {
   "cell_type": "code",
   "execution_count": 12,
   "id": "d5ad392b-23e9-4b78-a810-c949140435de",
   "metadata": {},
   "outputs": [
    {
     "name": "stdout",
     "output_type": "stream",
     "text": [
      "1\n",
      "3\n",
      "5\n",
      "7\n",
      "9\n"
     ]
    }
   ],
   "source": [
    "#Write a program to skip printing even numbers from 1 to 10\n",
    "for num in range(1, 11):\n",
    "    if num % 2 == 0:\n",
    "        continue\n",
    "    print(num)"
   ]
  },
  {
   "cell_type": "code",
   "execution_count": 13,
   "id": "b6ec8c1b-6b2a-4379-962b-cb2fbd740d34",
   "metadata": {},
   "outputs": [
    {
     "name": "stdout",
     "output_type": "stream",
     "text": [
      "0\n",
      "1\n",
      "2\n",
      "3\n",
      "4\n",
      "5\n",
      "6\n",
      "7\n",
      "8\n",
      "9\n"
     ]
    }
   ],
   "source": [
    "#W Write a program to print numbers from 0 to 9 using range().\n",
    "for num in range(10):\n",
    "    print(num)"
   ]
  },
  {
   "cell_type": "code",
   "execution_count": 24,
   "id": "efe58f18-469d-4607-b4f9-658c466a58ae",
   "metadata": {},
   "outputs": [
    {
     "name": "stdout",
     "output_type": "stream",
     "text": [
      "Multiplication Table of {num}:\n",
      "1 x 1 = 1\n",
      "1 x 2 = 2\n",
      "1 x 3 = 3\n",
      "1 x 4 = 4\n",
      "1 x 5 = 5\n",
      "1 x 6 = 6\n",
      "1 x 7 = 7\n",
      "1 x 8 = 8\n",
      "1 x 9 = 9\n",
      "1 x 10 = 10\n",
      "\n"
     ]
    }
   ],
   "source": [
    "#Write a program to print multiplication tables from 1 to 5, but stop after the first table is printed for each number.\n",
    "for num in range(1, 6):\n",
    "    print(\"Multiplication Table of {num}:\")\n",
    "    for i in range(1, 11):\n",
    "            product = num * i\n",
    "            print(f\"{num} x {i} = {product}\")\n",
    "    print()\n",
    "    break"
   ]
  },
  {
   "cell_type": "code",
   "execution_count": 27,
   "id": "2639ee63-7b23-4d0b-9064-25eb9588f5d9",
   "metadata": {},
   "outputs": [
    {
     "name": "stdout",
     "output_type": "stream",
     "text": [
      "1\n",
      "3\n",
      "5\n",
      "7\n",
      "9\n"
     ]
    }
   ],
   "source": [
    "#Write a program to skip printing even numbers using a while loop.\n",
    "start_num = 1\n",
    "end_num = 10\n",
    "num = start_num\n",
    "while num <= end_num:\n",
    "    if num % 2 != 0:\n",
    "        print(num)\n",
    "    num += 1"
   ]
  },
  {
   "cell_type": "code",
   "execution_count": null,
   "id": "b3f415fb-9705-4c87-9113-791837bfbe53",
   "metadata": {},
   "outputs": [],
   "source": []
  }
 ],
 "metadata": {
  "kernelspec": {
   "display_name": "Python 3 (ipykernel)",
   "language": "python",
   "name": "python3"
  },
  "language_info": {
   "codemirror_mode": {
    "name": "ipython",
    "version": 3
   },
   "file_extension": ".py",
   "mimetype": "text/x-python",
   "name": "python",
   "nbconvert_exporter": "python",
   "pygments_lexer": "ipython3",
   "version": "3.10.8"
  }
 },
 "nbformat": 4,
 "nbformat_minor": 5
}
